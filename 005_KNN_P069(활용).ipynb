{
  "nbformat": 4,
  "nbformat_minor": 0,
  "metadata": {
    "colab": {
      "provenance": [],
      "authorship_tag": "ABX9TyOewbupV3/w7eICYIN58qXo",
      "include_colab_link": true
    },
    "kernelspec": {
      "name": "python3",
      "display_name": "Python 3"
    },
    "language_info": {
      "name": "python"
    }
  },
  "cells": [
    {
      "cell_type": "markdown",
      "metadata": {
        "id": "view-in-github",
        "colab_type": "text"
      },
      "source": [
        "<a href=\"https://colab.research.google.com/github/JD12321/2023-DA/blob/main/005_KNN_P069(%ED%99%9C%EC%9A%A9).ipynb\" target=\"_parent\"><img src=\"https://colab.research.google.com/assets/colab-badge.svg\" alt=\"Open In Colab\"/></a>"
      ]
    },
    {
      "cell_type": "markdown",
      "source": [
        "# KNN(K-Nearest Neighbors)\n"
      ],
      "metadata": {
        "id": "RmoVJ8M62TmR"
      }
    },
    {
      "cell_type": "markdown",
      "source": [
        "## import library & read csv data"
      ],
      "metadata": {
        "id": "LYs5dUq92bph"
      }
    },
    {
      "cell_type": "code",
      "execution_count": null,
      "metadata": {
        "id": "68Ud4fFy174v"
      },
      "outputs": [],
      "source": [
        "# library & data\n",
        "import numpy as np\n",
        "import pandas as pd\n",
        "import matplotlib.pyplot as plt\n",
        "from sklearn import metrics\n",
        "# from sklearn.datasets import load_iris\n",
        "# iris = load_iris()\n",
        "\n",
        "# column of dataset\n",
        "#names = ['Sepal.Length', 'Sepal.Width', 'Petal.Length', 'Petal.Width', 'Species']\n",
        "#dataset = pd.read_csv('/content/dgu_data/Iris.csv')\n",
        "\n",
        "#== [pd.read_csv] 부분이 빈칸으로 되어 있고 쓰는 시험 문제 나옴 ==#\n",
        "dataset = pd.read_csv('/content/sample_data/Data_all/Iris.csv')"
      ]
    },
    {
      "cell_type": "markdown",
      "source": [
        "## search of data"
      ],
      "metadata": {
        "id": "G2FNskF73xcd"
      }
    },
    {
      "cell_type": "code",
      "source": [
        "#== 아래 10개 코드는 시험에 많이 나옴 (암기) - 2문제 출제 ==#\n",
        "\n",
        "#dataset\n",
        "#print(dataset)\n",
        "#dataset.info()\n",
        "#dataset.describe()\n",
        "#dataset.head(5)        # 안써도 5개 나옴 - a.head()\n",
        "#dataset.tail()            # 안써도 5개 나옴 - a.tail()\n",
        "#dataset.columns       # dataset.rows는 없음\n",
        "#dataset.shape\n",
        "#dataset.dtypes\n",
        "#dataset.isnull().sum()  # null 값이 없는게 좋은 데이터임"
      ],
      "metadata": {
        "id": "40x3_3zE3y7J"
      },
      "execution_count": null,
      "outputs": []
    },
    {
      "cell_type": "code",
      "source": [
        "# training과 test dataset 분리 (슬라이싱 값 수정)\n",
        "#= 슬라이싱 하는거 시험 나옴 =#\n",
        "X = dataset.iloc[:, 1:-1].values    # 뒤에서 하나를 뺀 값을 가져와서 X에 저장\n",
        "y = dataset.iloc[:, 5].values        # 열은 앞에서 다섯 번째 값만 가져와서 y에 저장\n",
        "\n",
        "X.shape\n",
        "#X\n",
        "#y.shape\n",
        "#y\n",
        "#print(X)\n",
        "#print(y)\n",
        "#print(X, y)\n",
        "print(X.shape, y.shape)"
      ],
      "metadata": {
        "colab": {
          "base_uri": "https://localhost:8080/"
        },
        "id": "wOD9NabI4Q9w",
        "outputId": "edb5cb12-7dda-4d53-af44-d9381ee9d27e"
      },
      "execution_count": null,
      "outputs": [
        {
          "output_type": "stream",
          "name": "stdout",
          "text": [
            "(150, 4) (150,)\n"
          ]
        }
      ]
    },
    {
      "cell_type": "markdown",
      "source": [
        "## training dataset : 80% / test dataset : 20%"
      ],
      "metadata": {
        "id": "rOGP-fuTNHD3"
      }
    },
    {
      "cell_type": "code",
      "source": [
        "#== 이 코드 블럭 전체를 빈칸으로 두고 다 쓰는게 시험에 나옴 (다 암기) ==#\n",
        "\n",
        "from sklearn.model_selection import train_test_split\n",
        "X_train, X_test, y_train, y_test = train_test_split(X, y, test_size=0.15)   ### 20% --> 15% ###\n",
        "\n",
        "#X_train.shape\n",
        "#X_test.shape\n",
        "#y_train.shape\n",
        "y_test.shape\n"
      ],
      "metadata": {
        "colab": {
          "base_uri": "https://localhost:8080/"
        },
        "id": "BeicPBq_Kj_D",
        "outputId": "21233dba-a4b2-4fbe-8383-5a753392478f"
      },
      "execution_count": null,
      "outputs": [
        {
          "output_type": "execute_result",
          "data": {
            "text/plain": [
              "(45,)"
            ]
          },
          "metadata": {},
          "execution_count": 16
        }
      ]
    },
    {
      "cell_type": "code",
      "source": [
        "# Data Standardization(표준화) : Feature의 범위가 다른 경우에만 사용\n",
        "from sklearn.preprocessing import StandardScaler\n",
        "s = StandardScaler()   # 특성 스케일링(scaling), 평균이 0, 표준편차가 1이 되도록 변환\n",
        "s.fit(X_train, X_test)              ## 교과서를 변경한 부분\n",
        "\n",
        "X_train = s.transform(X_train)    # 훈련 데이터를 스케일링 처리\n",
        "X_test = s.transform(X_test)      # 테스트 데이터를 스케일링 처리\n",
        "\n",
        "#X_train\n",
        "X_test"
      ],
      "metadata": {
        "colab": {
          "base_uri": "https://localhost:8080/"
        },
        "id": "llDQZn2WOK5c",
        "outputId": "c0f6d69a-67e3-45ab-c410-7fa5d7a99ec9"
      },
      "execution_count": null,
      "outputs": [
        {
          "output_type": "execute_result",
          "data": {
            "text/plain": [
              "array([[ 0.11758258, -0.0685618 ,  0.51606242,  0.7155277 ],\n",
              "       [ 0.49942292, -1.26839335,  0.57633668,  0.30646921],\n",
              "       [-1.02793845,  0.65133712, -1.35243946, -1.05705907],\n",
              "       [-0.26425776,  3.29096653, -1.47298797, -1.19341189],\n",
              "       [-0.90065833,  1.13126974, -1.47298797, -1.46611755],\n",
              "       [-0.6460981 ,  2.09113498, -1.35243946, -1.19341189],\n",
              "       [-0.00969753, -0.0685618 ,  0.69688519,  0.7155277 ],\n",
              "       [ 0.88126327, -0.0685618 ,  0.27496541,  0.17011639],\n",
              "       [ 2.15406441, -0.0685618 ,  1.600999  ,  1.12458618],\n",
              "       [-0.00969753, -0.0685618 ,  0.1544169 ,  0.30646921],\n",
              "       [-1.15521856,  0.41137082, -1.65381073, -1.46611755],\n",
              "       [ 2.28134452, -0.0685618 ,  1.29962773,  1.39729184],\n",
              "       [-1.66433902,  1.37123605, -1.77435924, -1.46611755],\n",
              "       [-1.28249867, -1.50835966, -0.38805139, -0.37529493],\n",
              "       [-0.51881799, -1.50835966, -0.08668012, -0.2389421 ],\n",
              "       [-1.66433902,  0.89130343, -1.53326222, -1.32976472],\n",
              "       [ 0.2448627 , -0.54849442,  0.03386839,  0.03376356],\n",
              "       [ 0.75398315,  0.41137082,  0.69688519,  0.98823335],\n",
              "       [-1.91889925, -0.0685618 , -1.59353648, -1.46611755],\n",
              "       [ 0.49942292, -0.30852811,  0.99825646,  0.7155277 ],\n",
              "       [ 0.37214281, -1.98829228,  0.33523966,  0.30646921],\n",
              "       [-1.02793845,  1.85116867, -1.41271371, -1.46611755],\n",
              "       [-0.51881799,  2.81103391, -1.53326222, -1.46611755],\n",
              "       [-0.26425776, -0.54849442,  0.33523966,  0.03376356],\n",
              "       [ 1.00854338, -0.0685618 ,  0.75715944,  1.39729184],\n",
              "       [-0.6460981 ,  1.61120236, -1.47298797, -1.46611755],\n",
              "       [-1.15521856,  1.13126974, -1.59353648, -1.32976472],\n",
              "       [-0.51881799, -1.02842704,  0.27496541, -0.10258927],\n",
              "       [ 1.64494395, -0.0685618 ,  1.11880497,  0.44282204],\n",
              "       [ 1.89950418, -0.54849442,  1.29962773,  0.85188052],\n",
              "       [ 0.49942292,  0.65133712,  1.23935348,  1.66999749],\n",
              "       [-1.40977879, -0.0685618 , -1.53326222, -1.32976472],\n",
              "       [-0.13697765, -1.02842704,  0.03386839, -0.10258927],\n",
              "       [-1.15521856, -0.0685618 , -1.41271371, -1.46611755],\n",
              "       [-1.40977879, -0.0685618 , -1.53326222, -1.60247038],\n",
              "       [-1.28249867,  0.17140451, -1.47298797, -1.60247038],\n",
              "       [ 2.28134452, -1.02842704,  1.78182177,  1.39729184],\n",
              "       [-1.91889925,  0.41137082, -1.59353648, -1.46611755],\n",
              "       [ 0.2448627 , -0.0685618 ,  0.57633668,  0.7155277 ],\n",
              "       [ 0.62670304, -0.54849442,  0.99825646,  1.26093901],\n",
              "       [-0.77337822,  1.61120236, -1.47298797, -1.46611755],\n",
              "       [-1.02793845,  1.13126974, -1.53326222, -1.32976472],\n",
              "       [-1.15521856,  1.37123605, -1.53326222, -1.46611755],\n",
              "       [-1.91889925, -0.30852811, -1.53326222, -1.46611755],\n",
              "       [-0.90065833, -0.78846073, -0.02640586,  0.17011639]])"
            ]
          },
          "metadata": {},
          "execution_count": 17
        }
      ]
    },
    {
      "cell_type": "code",
      "source": [
        "# create model (KNN)\n",
        "from sklearn.neighbors import KNeighborsClassifier\n",
        "\n",
        "### k = 50  -->  k = 13 ###\n",
        "knn = KNeighborsClassifier(n_neighbors=13)      # K의 값 : 3,5,7,9,11,13,15,17,19...,49\n",
        "#y_train = y_train.astype(int)    # fix type error\n",
        "knn.fit(X_train, y_train)"
      ],
      "metadata": {
        "colab": {
          "base_uri": "https://localhost:8080/",
          "height": 74
        },
        "id": "BZGJiHaYQM7P",
        "outputId": "17a6a1a2-ab6f-4eb6-9720-1163319c424b"
      },
      "execution_count": null,
      "outputs": [
        {
          "output_type": "execute_result",
          "data": {
            "text/plain": [
              "KNeighborsClassifier(n_neighbors=19)"
            ],
            "text/html": [
              "<style>#sk-container-id-2 {color: black;}#sk-container-id-2 pre{padding: 0;}#sk-container-id-2 div.sk-toggleable {background-color: white;}#sk-container-id-2 label.sk-toggleable__label {cursor: pointer;display: block;width: 100%;margin-bottom: 0;padding: 0.3em;box-sizing: border-box;text-align: center;}#sk-container-id-2 label.sk-toggleable__label-arrow:before {content: \"▸\";float: left;margin-right: 0.25em;color: #696969;}#sk-container-id-2 label.sk-toggleable__label-arrow:hover:before {color: black;}#sk-container-id-2 div.sk-estimator:hover label.sk-toggleable__label-arrow:before {color: black;}#sk-container-id-2 div.sk-toggleable__content {max-height: 0;max-width: 0;overflow: hidden;text-align: left;background-color: #f0f8ff;}#sk-container-id-2 div.sk-toggleable__content pre {margin: 0.2em;color: black;border-radius: 0.25em;background-color: #f0f8ff;}#sk-container-id-2 input.sk-toggleable__control:checked~div.sk-toggleable__content {max-height: 200px;max-width: 100%;overflow: auto;}#sk-container-id-2 input.sk-toggleable__control:checked~label.sk-toggleable__label-arrow:before {content: \"▾\";}#sk-container-id-2 div.sk-estimator input.sk-toggleable__control:checked~label.sk-toggleable__label {background-color: #d4ebff;}#sk-container-id-2 div.sk-label input.sk-toggleable__control:checked~label.sk-toggleable__label {background-color: #d4ebff;}#sk-container-id-2 input.sk-hidden--visually {border: 0;clip: rect(1px 1px 1px 1px);clip: rect(1px, 1px, 1px, 1px);height: 1px;margin: -1px;overflow: hidden;padding: 0;position: absolute;width: 1px;}#sk-container-id-2 div.sk-estimator {font-family: monospace;background-color: #f0f8ff;border: 1px dotted black;border-radius: 0.25em;box-sizing: border-box;margin-bottom: 0.5em;}#sk-container-id-2 div.sk-estimator:hover {background-color: #d4ebff;}#sk-container-id-2 div.sk-parallel-item::after {content: \"\";width: 100%;border-bottom: 1px solid gray;flex-grow: 1;}#sk-container-id-2 div.sk-label:hover label.sk-toggleable__label {background-color: #d4ebff;}#sk-container-id-2 div.sk-serial::before {content: \"\";position: absolute;border-left: 1px solid gray;box-sizing: border-box;top: 0;bottom: 0;left: 50%;z-index: 0;}#sk-container-id-2 div.sk-serial {display: flex;flex-direction: column;align-items: center;background-color: white;padding-right: 0.2em;padding-left: 0.2em;position: relative;}#sk-container-id-2 div.sk-item {position: relative;z-index: 1;}#sk-container-id-2 div.sk-parallel {display: flex;align-items: stretch;justify-content: center;background-color: white;position: relative;}#sk-container-id-2 div.sk-item::before, #sk-container-id-2 div.sk-parallel-item::before {content: \"\";position: absolute;border-left: 1px solid gray;box-sizing: border-box;top: 0;bottom: 0;left: 50%;z-index: -1;}#sk-container-id-2 div.sk-parallel-item {display: flex;flex-direction: column;z-index: 1;position: relative;background-color: white;}#sk-container-id-2 div.sk-parallel-item:first-child::after {align-self: flex-end;width: 50%;}#sk-container-id-2 div.sk-parallel-item:last-child::after {align-self: flex-start;width: 50%;}#sk-container-id-2 div.sk-parallel-item:only-child::after {width: 0;}#sk-container-id-2 div.sk-dashed-wrapped {border: 1px dashed gray;margin: 0 0.4em 0.5em 0.4em;box-sizing: border-box;padding-bottom: 0.4em;background-color: white;}#sk-container-id-2 div.sk-label label {font-family: monospace;font-weight: bold;display: inline-block;line-height: 1.2em;}#sk-container-id-2 div.sk-label-container {text-align: center;}#sk-container-id-2 div.sk-container {/* jupyter's `normalize.less` sets `[hidden] { display: none; }` but bootstrap.min.css set `[hidden] { display: none !important; }` so we also need the `!important` here to be able to override the default hidden behavior on the sphinx rendered scikit-learn.org. See: https://github.com/scikit-learn/scikit-learn/issues/21755 */display: inline-block !important;position: relative;}#sk-container-id-2 div.sk-text-repr-fallback {display: none;}</style><div id=\"sk-container-id-2\" class=\"sk-top-container\"><div class=\"sk-text-repr-fallback\"><pre>KNeighborsClassifier(n_neighbors=19)</pre><b>In a Jupyter environment, please rerun this cell to show the HTML representation or trust the notebook. <br />On GitHub, the HTML representation is unable to render, please try loading this page with nbviewer.org.</b></div><div class=\"sk-container\" hidden><div class=\"sk-item\"><div class=\"sk-estimator sk-toggleable\"><input class=\"sk-toggleable__control sk-hidden--visually\" id=\"sk-estimator-id-2\" type=\"checkbox\" checked><label for=\"sk-estimator-id-2\" class=\"sk-toggleable__label sk-toggleable__label-arrow\">KNeighborsClassifier</label><div class=\"sk-toggleable__content\"><pre>KNeighborsClassifier(n_neighbors=19)</pre></div></div></div></div></div>"
            ]
          },
          "metadata": {},
          "execution_count": 18
        }
      ]
    },
    {
      "cell_type": "code",
      "source": [
        "# model accuracy\n",
        "from sklearn import metrics\n",
        "y_pred = knn.predict(X_test)\n",
        "#y_tset = y_test.astype(int)\n",
        "print(\"Accuracy: {}\".format(metrics.accuracy_score(y_test, y_pred)))"
      ],
      "metadata": {
        "colab": {
          "base_uri": "https://localhost:8080/"
        },
        "id": "5wcL7yURndlg",
        "outputId": "5163a407-7792-4f5e-ac95-1725d6150ea2"
      },
      "execution_count": null,
      "outputs": [
        {
          "output_type": "stream",
          "name": "stdout",
          "text": [
            "Accuracy: 0.9333333333333333\n"
          ]
        }
      ]
    },
    {
      "cell_type": "code",
      "source": [
        "#########################################\n",
        "k = 10\n",
        "acc_array = np.zeros(k)\n",
        "for k in np.arange(1, k+1, 1):\n",
        "    classifier = KNeighborsClassifier(n_neighbors=k).fit(X_train, y_train)\n",
        "    y_pred = knn.predict(X_test)\n",
        "    acc = metrics.accuracy_score(y_test, y_pred)\n",
        "    acc_array[k-1] = acc\n",
        "\n",
        "max_acc = np.amax(acc_array)\n",
        "acc_list = list(acc_array)\n",
        "k = acc_list.index(max_acc)\n",
        "print(\"Accuracy is\", metrics.accuracy_score(y_test, y_pred), \"for K-Value:\", k)"
      ],
      "metadata": {
        "colab": {
          "base_uri": "https://localhost:8080/"
        },
        "id": "aLsDwcbqn48v",
        "outputId": "4a73af1c-88bf-4996-d2df-c2117f60dc2e"
      },
      "execution_count": null,
      "outputs": [
        {
          "output_type": "stream",
          "name": "stdout",
          "text": [
            "Accuracy is 0.9333333333333333 for K-Value: 0\n"
          ]
        }
      ]
    },
    {
      "cell_type": "markdown",
      "source": [
        "---\n",
        "# **최적의 하이퍼파라미터 테스트 코드**\n"
      ],
      "metadata": {
        "id": "DXuo6CzCU54M"
      }
    },
    {
      "cell_type": "code",
      "source": [
        "# library & data\n",
        "import numpy as np\n",
        "import pandas as pd\n",
        "import matplotlib.pyplot as plt\n",
        "from sklearn import metrics\n",
        "from sklearn.model_selection import train_test_split\n",
        "from sklearn.preprocessing import StandardScaler\n",
        "from sklearn.neighbors import KNeighborsClassifier\n",
        "from sklearn import metrics\n",
        "\n",
        "x2 = []\n",
        "dataset = pd.read_csv('/content/sample_data/Data_all/Iris.csv')\n",
        "\n",
        "X = dataset.iloc[:, 1:-1].values\n",
        "y = dataset.iloc[:, 5].values\n",
        "\n",
        "for i in range(10000):\n",
        "\n",
        "  X_train, X_test, y_train, y_test = train_test_split(X, y, test_size=0.05)\n",
        "  y_test.shape\n",
        "\n",
        "  s = StandardScaler()\n",
        "  s.fit(X_train, X_test)\n",
        "\n",
        "  X_train = s.transform(X_train)\n",
        "  X_test = s.transform(X_test)\n",
        "\n",
        "  knn = KNeighborsClassifier(n_neighbors=13)\n",
        "  knn.fit(X_train, y_train)\n",
        "\n",
        "  y_pred = knn.predict(X_test)\n",
        "  x1 = metrics.accuracy_score(y_test, y_pred)\n",
        "  x2.append(x1)\n",
        "\n",
        "x3 = sum(x2) / len(x2)\n",
        "print(\"Accuracy: {}\".format(x3))\n"
      ],
      "metadata": {
        "colab": {
          "base_uri": "https://localhost:8080/"
        },
        "id": "NTMqenqyUyHT",
        "outputId": "47152ccb-439e-4a9b-f456-dd71ddadf459"
      },
      "execution_count": null,
      "outputs": [
        {
          "output_type": "stream",
          "name": "stdout",
          "text": [
            "Accuracy: 0.96365\n"
          ]
        }
      ]
    },
    {
      "cell_type": "markdown",
      "source": [
        "# **1. testdataset 비율 테스트 결과** (최적 비율 : 15%)\n",
        "\n",
        "- **고민** : 기준 없이 테스트 데이터를 계속 줄이자니 과적합이 걱정되어, 얼마나 줄여야할지를 모르겠음. (그래프를 안그리니 elbow를 찾기 힘듬)\n",
        "\n",
        "- **5%** : 0.96365\n",
        "\n",
        "- **10%** : 0.9629399999999778\n",
        "\n",
        "- **15%** : 0.9619130434781661\n",
        "\n",
        "- **20%** : 0.9456966666665878\n",
        "\n",
        "- **25%** : 0.9440263157895159\n",
        "\n",
        "- **30%** : 0.9406533333333584\n",
        "\n",
        "- **35%** : 0.9338867924528371\n",
        "\n",
        "- **40%** : 0.9255416666666307"
      ],
      "metadata": {
        "id": "UB4PAc_raH6i"
      }
    },
    {
      "cell_type": "markdown",
      "source": [
        "# **2. n_neighbors값 테스트 결과** (최적값 : 13)\n",
        "\n",
        "- **3** : 0.9457533333333382\n",
        "\n",
        "- **4** : 0.9435333333333387\n",
        "\n",
        "- **5** : 0.950393333333334\n",
        "\n",
        "- **6** : 0.9509400000000016\n",
        "\n",
        "- **7** : 0.9539733333333319\n",
        "\n",
        "- **8** : 0.9538399999999979\n",
        "\n",
        "- **9** : 0.9526866666666663\n",
        "\n",
        "- **10** : 0.9539133333333315\n",
        "\n",
        "- **11** : 0.9579399999999967\n",
        "\n",
        "- **12** : 0.9579333333333311\n",
        "\n",
        "- **13** : 0.959899999999994\n",
        "\n",
        "- **14** : 0.9571399999999967\n",
        "\n",
        "- **15** : 0.9554399999999993\n",
        "\n",
        "- **16** : 0.9522133333333328\n",
        "\n",
        "- **17** : 0.9494333333333348\n",
        "\n",
        "- **18** : 0.9471866666666708\n",
        "\n",
        "- **19** : 0.9471133333333364\n",
        "\n",
        "- **20** : 0.9461666666666714\n",
        "\n"
      ],
      "metadata": {
        "id": "fVRJwEStdcoF"
      }
    }
  ]
}